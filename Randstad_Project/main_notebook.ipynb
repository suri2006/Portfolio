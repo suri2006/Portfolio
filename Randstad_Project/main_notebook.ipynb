{
 "cells": [
  {
   "cell_type": "code",
   "execution_count": 66,
   "id": "44af1aef",
   "metadata": {},
   "outputs": [],
   "source": [
    "import fun_tabla_pdf\n",
    "import pandas as pd\n",
    "import requests"
   ]
  },
  {
   "cell_type": "code",
   "execution_count": 67,
   "id": "b8d02d8e",
   "metadata": {},
   "outputs": [
    {
     "name": "stdout",
     "output_type": "stream",
     "text": [
      "Pagina sin tabla:  12\n",
      "Pagina sin tabla:  16\n",
      "Pagina sin tabla:  30\n",
      "Pagina sin tabla:  36\n",
      "Pagina sin tabla:  39\n",
      "Pagina sin tabla:  42\n",
      "Pagina sin tabla:  44\n",
      "Pagina sin tabla:  46\n",
      "Pagina sin tabla:  48\n",
      "Pagina sin tabla:  51\n",
      "Pagina sin tabla:  54\n",
      "Pagina sin tabla:  57\n",
      "Pagina sin tabla:  60\n",
      "Pagina sin tabla:  70\n",
      "Pagina sin tabla:  76\n"
     ]
    }
   ],
   "source": [
    "pdf_nombre = 'Randstad_Julio_2025.pdf'\n",
    "\n",
    "# colocar la primera y ultima pagina donde aparecen tablas\n",
    "inicio = 11\n",
    "fin = 79\n",
    "\n",
    "l_pag = [i for i in range(inicio , fin + 1)]\n",
    "todos_df = []\n",
    "todos_df_unpivot = []\n",
    "\n",
    "for i_pag in l_pag:\n",
    "    pag = i_pag\n",
    "\n",
    "    #salta la iteracion si la tabla de datos esta vacia, es porque se trata de un pagina con solo el titulo de area profesional\n",
    "    if fun_tabla_pdf.sin_tabla(pdf_nombre,pag):\n",
    "        print('Pagina sin tabla: ', pag + 1)\n",
    "        continue\n",
    "\n",
    "    # Extraccion de datos de numeros y nombre de columnas de zona (zona derecha de la tabla en pdf)\n",
    "    datos_tabla = fun_tabla_pdf.tabla_datos_num(pdf_nombre,pag)\n",
    "    datos_tabla_stg1 = fun_tabla_pdf.filtrar_items(datos_tabla)\n",
    "    datos_tabla_stg1 = fun_tabla_pdf.f_bubble_sort(datos_tabla_stg1)\n",
    "    datos_tabla_stg2 = fun_tabla_pdf.datos_a_fila(datos_tabla_stg1)\n",
    "    l_datos_tablas = fun_tabla_pdf.datos_a_tabla(datos_tabla_stg2)\n",
    "\n",
    "    #Extraccion de datos de las cabeceras/categorias/puesto del lado izquierdo del pdf\n",
    "    encabezados = fun_tabla_pdf.encabezados_datos(pdf_nombre , pag)\n",
    "    encabezados_stg1 = fun_tabla_pdf.f_bubble_sort(encabezados)\n",
    "    encabezados_stg2 = fun_tabla_pdf.f_misma_fila(encabezados_stg1)\n",
    "    encabezados_stg3, encabezados_stg3_11 = fun_tabla_pdf.separacion_encabezado(l_datos_tablas, encabezados_stg2)\n",
    "\n",
    "    #Extraccion del dato de area profesional, zona de cabecera de pagina del pdf\n",
    "    area_profesional = fun_tabla_pdf.area_profesional(pdf_nombre, pag)\n",
    "\n",
    "    #Uniendo todo en una sola tabla y convertir en df\n",
    "    lista_l_df = fun_tabla_pdf.unir_todo(l_datos_tablas, encabezados_stg3 ,encabezados_stg3_11 ,area_profesional)\n",
    "    df_tables, df_tables_unpivot = fun_tabla_pdf.generar_df(lista_l_df)\n",
    "\n",
    "    for table in df_tables:\n",
    "        todos_df.append(table)\n",
    "    \n",
    "    for table_unpv in df_tables_unpivot:\n",
    "        todos_df_unpivot.append(table_unpv)\n",
    "    "
   ]
  },
  {
   "cell_type": "code",
   "execution_count": 68,
   "id": "f16f7cab",
   "metadata": {},
   "outputs": [],
   "source": [
    "df_concat = pd.concat(todos_df)\n",
    "df_concat_unpivot = pd.concat(todos_df_unpivot)"
   ]
  },
  {
   "cell_type": "markdown",
   "id": "11a5c062",
   "metadata": {},
   "source": [
    "#### Consultamos la api argentinadatos para calcular el dolar promedio para Julio de 2025, que es el mes del pdf"
   ]
  },
  {
   "cell_type": "code",
   "execution_count": 69,
   "id": "8037d175",
   "metadata": {},
   "outputs": [],
   "source": [
    "text = requests.get(\n",
    "    \"https://api.argentinadatos.com/v1/cotizaciones/dolares\"\n",
    ")\n",
    "l_aux = []\n",
    "\n",
    "for i in text.json():\n",
    "    if i['casa'] == 'oficial' and '2025-07' in i['fecha'] :\n",
    "        v_dolar_venta = int(i['venta'])\n",
    "        l_aux.append( v_dolar_venta )\n",
    "\n",
    "v_promedio = round(sum(l_aux) / len(l_aux))\n"
   ]
  },
  {
   "cell_type": "code",
   "execution_count": 70,
   "id": "68f308c5",
   "metadata": {},
   "outputs": [],
   "source": [
    "df_concat['Dolar_Promedio_Mes'] = v_promedio\n",
    "df_concat_unpivot['Dolar_Promedio_Mes'] = v_promedio"
   ]
  },
  {
   "cell_type": "markdown",
   "id": "a1ab2acd",
   "metadata": {},
   "source": [
    "#### Exportando a csv"
   ]
  },
  {
   "cell_type": "code",
   "execution_count": 71,
   "id": "029877d4",
   "metadata": {},
   "outputs": [],
   "source": [
    "df_concat.to_csv('DF_TABLAS.csv', index = False, encoding = 'utf-8-sig', sep = \";\")\n",
    "df_concat_unpivot.to_csv('DF_TABLAS_UNPIVOT.csv', index = False, encoding = 'utf-8-sig', sep = \";\")"
   ]
  }
 ],
 "metadata": {
  "kernelspec": {
   "display_name": "Python 3",
   "language": "python",
   "name": "python3"
  },
  "language_info": {
   "codemirror_mode": {
    "name": "ipython",
    "version": 3
   },
   "file_extension": ".py",
   "mimetype": "text/x-python",
   "name": "python",
   "nbconvert_exporter": "python",
   "pygments_lexer": "ipython3",
   "version": "3.13.2"
  }
 },
 "nbformat": 4,
 "nbformat_minor": 5
}
